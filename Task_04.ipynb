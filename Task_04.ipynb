{
 "cells": [
  {
   "cell_type": "code",
   "execution_count": null,
   "id": "bab015f8",
   "metadata": {
    "vscode": {
     "languageId": "plaintext"
    }
   },
   "outputs": [],
   "source": [
    "import pandas as pd\n",
    "import matplotlib.pyplot as plt\n",
    "import seaborn as sns\n",
    "\n",
    "# Load your dataset\n",
    "df = pd.read_csv(\"sentimentdataset.csv\", encoding='ISO-8859-1')\n",
    "\n",
    "# Drop rows with missing values (optional)\n",
    "df = df.dropna()\n",
    "\n",
    "# Convert necessary fields to string\n",
    "df['Sentiment'] = df['Sentiment'].astype(str)\n",
    "df['Text'] = df['Text'].astype(str)\n",
    "\n",
    "# Basic sentiment distribution\n",
    "plt.figure(figsize=(6, 4))\n",
    "sns.countplot(data=df, x='Sentiment', palette='Set2')\n",
    "plt.title('Sentiment Distribution')\n",
    "plt.xlabel('Sentiment')\n",
    "plt.ylabel('Tweet Count')\n",
    "plt.show()\n",
    "\n",
    "# Most common words in positive/negative tweets (optional)\n",
    "from wordcloud import WordCloud\n",
    "\n",
    "positive_text = \" \".join(df[df['Sentiment'].str.lower() == 'positive']['Text'])\n",
    "negative_text = \" \".join(df[df['Sentiment'].str.lower() == 'negative']['Text'])\n",
    "\n",
    "# WordCloud for Positive Sentiment\n",
    "if positive_text.strip():\n",
    "\twordcloud = WordCloud(width=800, height=400, background_color='white').generate(positive_text)\n",
    "\tplt.figure(figsize=(10, 5))\n",
    "\tplt.imshow(wordcloud, interpolation='bilinear')\n",
    "\tplt.axis('off')\n",
    "\tplt.title('Positive Sentiment Word Cloud')\n",
    "\tplt.show()\n",
    "else:\n",
    "\tprint(\"No positive sentiment tweets found for word cloud.\")\n",
    "\n",
    "# WordCloud for Negative Sentiment\n",
    "if negative_text.strip():\n",
    "\twordcloud = WordCloud(width=800, height=400, background_color='white').generate(negative_text)\n",
    "\tplt.figure(figsize=(10, 5))\n",
    "\tplt.imshow(wordcloud, interpolation='bilinear')\n",
    "\tplt.axis('off')\n",
    "\tplt.title('Negative Sentiment Word Cloud')\n",
    "\tplt.show()\n",
    "else:\n",
    "\tprint(\"No negative sentiment tweets found for word cloud.\")\n"
   ]
  },
  {
   "cell_type": "code",
   "execution_count": null,
   "id": "3468d7e0",
   "metadata": {},
   "outputs": [],
   "source": []
  }
 ],
 "metadata": {
  "language_info": {
   "name": "python"
  }
 },
 "nbformat": 4,
 "nbformat_minor": 5
}
